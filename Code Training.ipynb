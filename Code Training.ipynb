{
 "cells": [
  {
   "cell_type": "markdown",
   "id": "e173d530",
   "metadata": {},
   "source": [
    "### Code Training"
   ]
  },
  {
   "cell_type": "code",
   "execution_count": null,
   "id": "737a1d4a",
   "metadata": {},
   "outputs": [],
   "source": [
    "v = []\n",
    "w = []\n",
    "e = []\n",
    "r = []\n",
    "q = []\n",
    "l = []\n",
    "def add(v, w):\n",
    "    for t in range(0, 10):\n",
    "        if len(v) < 10:\n",
    "            t = int(input(\"Enter Number for First vector: \"))\n",
    "            v.append(t)\n",
    "            print(\"Write \\\"next\\\" if you want to jump to the next vector or \\\"no\\\" to Continue\")\n",
    "            u = input()\n",
    "            if u == 'next':\n",
    "                print(v)\n",
    "                for i in range(0, 10):\n",
    "                    i = int(input(\"Enter Number for Second vector: \"))\n",
    "                    w.append(i)  \n",
    "                    print(\"To End Say \\\"stop\\\" or \\\"no\\\" to Continue\")\n",
    "                    p = input()\n",
    "                    if p == 'stop':\n",
    "                        print(w)\n",
    "                        if len(v) == len(w):\n",
    "                            for f in range(len(v)):\n",
    "                                z = v[f] + w[f]\n",
    "                                e.append(z)\n",
    "                            print(e)\n",
    "                            m = int(input(\"Write Another Number: \"))\n",
    "                            for c in range(len(v)):\n",
    "                                b = m * v[c]\n",
    "                                n = m * w[c]\n",
    "                                r.append(b)\n",
    "                                q.append(n)\n",
    "                                \n",
    "                            for o in range(len(v)):\n",
    "                                O = v[o] * w[o]\n",
    "                                l.append(O)\n",
    "                            print(\"Scalar Product of First Vector\" + str(r))\n",
    "                            print(\"Scalar Product of Second Vector\" + str(q))\n",
    "                            print(\"Dot Product \" + str(sum(l)))\n",
    "                            break   \n",
    "                        elif len(v) != len(w):\n",
    "                                print(\"Please Be Sure That The Two vectors Have The Same Length\")\n",
    "       \n",
    "add(v ,w)"
   ]
  }
 ],
 "metadata": {
  "kernelspec": {
   "display_name": "Python 3",
   "language": "python",
   "name": "python3"
  },
  "language_info": {
   "codemirror_mode": {
    "name": "ipython",
    "version": 3
   },
   "file_extension": ".py",
   "mimetype": "text/x-python",
   "name": "python",
   "nbconvert_exporter": "python",
   "pygments_lexer": "ipython3",
   "version": "3.8.8"
  }
 },
 "nbformat": 4,
 "nbformat_minor": 5
}
